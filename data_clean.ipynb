{
 "cells": [
  {
   "cell_type": "code",
   "execution_count": 77,
   "id": "c9ce9781",
   "metadata": {},
   "outputs": [],
   "source": [
    "import pandas as pd\n"
   ]
  },
  {
   "cell_type": "code",
   "execution_count": 91,
   "id": "c6a7614b",
   "metadata": {},
   "outputs": [],
   "source": [
    "def data_scrubber(fn):\n",
    "    #data_scrubber imports csv datafiles as pandas dataframes\n",
    "    #alters column names to be handled in pandas\n",
    "    #creates a new df of rows containing errors\n",
    "    #then drops then error rows from the main df\n",
    "    \n",
    "    def month_extract(a):\n",
    "        \n",
    "        month = a[2:4]\n",
    "        \n",
    "        return month\n",
    "        \n",
    "    \n",
    "    #imports csv based on the input variable fn\n",
    "    df = pd.read_csv('N_01_extent_v3.0.csv')\n",
    "    \n",
    "    #removes - and spaces from column names, as this can cause issues in pandas\n",
    "    #REPLACE WITH CHARCTER LIST\n",
    "    \n",
    "    df.columns = df.columns.str.replace('-', '')\n",
    "    df.columns = df.columns.str.replace(' ', '')\n",
    "    \n",
    "    #checks for charcters that indicaqte error within the datatype column.\n",
    "    #seperates the errors for inspection in a seperate dataframe\n",
    "    #and the row indexes of the errors are saved ot a variable to allow removal\n",
    "    error_df = df.loc[df['datatype'].str.contains('9')]\n",
    "    error_index = df.loc[df['datatype'].str.contains('9')].index\n",
    "    \n",
    "    #drops rows containing errors, specified by error_index\n",
    "    df.drop(error_index, inplace=True)\n",
    "    \n",
    "    result = {month_extract(fn):df}\n",
    "\n",
    "    \n",
    "    return result"
   ]
  },
  {
   "cell_type": "code",
   "execution_count": 92,
   "id": "a4b591e9",
   "metadata": {},
   "outputs": [],
   "source": [
    "file_names = ['N_01_extent_v3.0.csv', 'N_02_extent_v3.0.csv', 'N_03_extent_v3.0.csv',\n",
    "              'N_04_extent_v3.0.csv', 'N_05_extent_v3.0.csv', 'N_06_extent_v3.0.csv',\n",
    "              'N_07_extent_v3.0.csv', 'N_08_extent_v3.0.csv', 'N_09_extent_v3.0.csv',\n",
    "              'N_10_extent_v3.0.csv', 'N_11_extent_v3.0.csv', 'N_12_extent_v3.0.csv']"
   ]
  },
  {
   "cell_type": "code",
   "execution_count": 100,
   "id": "1d7ba88b",
   "metadata": {},
   "outputs": [],
   "source": [
    "#A placeholder dict to be filled later\n",
    "scrubbed = {}\n",
    "\n",
    "# All of the files are read and scrubbed using the data_scrubber function\n",
    "# and compiled into a single dict for ease of access.\n",
    "# Dict keys are based on month, ie scrubbed[01] will give all the results for January\n",
    "\n",
    "for i in range(len(file_names)):\n",
    "    scrubbed.update(data_scrubber(file_names[i]))\n"
   ]
  },
  {
   "cell_type": "code",
   "execution_count": 103,
   "id": "5760d3c9",
   "metadata": {},
   "outputs": [
    {
     "ename": "KeyError",
     "evalue": "1",
     "output_type": "error",
     "traceback": [
      "\u001b[1;31m---------------------------------------------------------------------------\u001b[0m",
      "\u001b[1;31mKeyError\u001b[0m                                  Traceback (most recent call last)",
      "Cell \u001b[1;32mIn[103], line 1\u001b[0m\n\u001b[1;32m----> 1\u001b[0m scrubbed[\u001b[38;5;241m1\u001b[39m]\n",
      "\u001b[1;31mKeyError\u001b[0m: 1"
     ]
    }
   ],
   "source": [
    "scrubbed[1]"
   ]
  },
  {
   "cell_type": "code",
   "execution_count": null,
   "id": "87216be7",
   "metadata": {},
   "outputs": [],
   "source": []
  }
 ],
 "metadata": {
  "kernelspec": {
   "display_name": "Python 3 (ipykernel)",
   "language": "python",
   "name": "python3"
  },
  "language_info": {
   "codemirror_mode": {
    "name": "ipython",
    "version": 3
   },
   "file_extension": ".py",
   "mimetype": "text/x-python",
   "name": "python",
   "nbconvert_exporter": "python",
   "pygments_lexer": "ipython3",
   "version": "3.11.5"
  }
 },
 "nbformat": 4,
 "nbformat_minor": 5
}
